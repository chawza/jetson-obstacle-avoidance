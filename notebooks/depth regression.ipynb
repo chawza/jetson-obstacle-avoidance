{
 "cells": [
  {
   "cell_type": "code",
   "execution_count": 1,
   "metadata": {},
   "outputs": [],
   "source": [
    "import os\n",
    "import sys\n",
    "sys.path.append(os.path.dirname(os.getcwd()))\n",
    "\n",
    "import numpy as np\n",
    "from depthestimation import DepthEstimator\n",
    "import matplotlib.pyplot as plt"
   ]
  },
  {
   "cell_type": "code",
   "execution_count": 2,
   "metadata": {},
   "outputs": [
    {
     "name": "stdout",
     "output_type": "stream",
     "text": [
      "reading preset in C:/Users/Nabeel/projects/stereo-calibration/stereo presets/7_stereo_preset.json\n",
      "[[125.    ]\n",
      " [ 98.4375]\n",
      " [ 75.375 ]\n",
      " [ 62.8125]\n",
      " [ 54.    ]\n",
      " [ 47.3125]\n",
      " [ 42.125 ]\n",
      " [ 37.875 ]\n",
      " [ 34.375 ]\n",
      " [ 27.    ]\n",
      " [ 22.0625]\n",
      " [ 18.6875]\n",
      " [ 16.3125]\n",
      " [ 14.25  ]\n",
      " [ 13.375 ]\n",
      " [ 12.5   ]] [[ 300.]\n",
      " [ 400.]\n",
      " [ 500.]\n",
      " [ 600.]\n",
      " [ 700.]\n",
      " [ 800.]\n",
      " [ 900.]\n",
      " [1000.]\n",
      " [1100.]\n",
      " [1400.]\n",
      " [1700.]\n",
      " [2000.]\n",
      " [2300.]\n",
      " [2600.]\n",
      " [2800.]\n",
      " [3000.]]\n"
     ]
    }
   ],
   "source": [
    "estimator = DepthEstimator()\n",
    "estimator.load_preset('C:/Users/Nabeel/projects/stereo-calibration/stereo presets/7_stereo_preset.json')\n",
    "estimator.train_depth_mapping('C:/Users/Nabeel/projects/stereo-calibration/depth_map.npy')"
   ]
  },
  {
   "cell_type": "code",
   "execution_count": 3,
   "metadata": {},
   "outputs": [
    {
     "data": {
      "text/plain": [
       "<matplotlib.collections.PathCollection at 0x234f22b3288>"
      ]
     },
     "execution_count": 3,
     "metadata": {},
     "output_type": "execute_result"
    },
    {
     "data": {
      "image/png": "[encoded data removed]",
      "text/plain": [
       "<Figure size 720x360 with 1 Axes>"
      ]
     },
     "metadata": {
      "needs_background": "light"
     },
     "output_type": "display_data"
    }
   ],
   "source": [
    "mapping = np.load('../depth_map.npy')\n",
    "disp = [np.float32(value[0]) for value in mapping]\n",
    "depth = [np.float32(value[1]) for value in mapping]\n",
    "\n",
    "plt.figure(figsize=(10,5))\n",
    "\n",
    "plt.ylabel('depth (mm)')\n",
    "plt.xlabel('disparity (pixel)')\n",
    "plt.title('relation between disparity and depth')\n",
    "plt.scatter(disp, depth)"
   ]
  },
  {
   "cell_type": "code",
   "execution_count": 4,
   "metadata": {},
   "outputs": [
    {
     "data": {
      "text/plain": [
       "257.6822280883789"
      ]
     },
     "execution_count": 4,
     "metadata": {},
     "output_type": "execute_result"
    }
   ],
   "source": [
    "estimator.predict_depth(disparity=20)"
   ]
  }
 ],
 "metadata": {
  "interpreter": {
   "hash": "3bac7a2419f3ae0d0914cfbcd74e90a33e2f9194cc65ec78da581a54c5deb5b4"
  },
  "kernelspec": {
   "display_name": "Python 3.7.9 ('venv': venv)",
   "language": "python",
   "name": "python3"
  },
  "language_info": {
   "codemirror_mode": {
    "name": "ipython",
    "version": 3
   },
   "file_extension": ".py",
   "mimetype": "text/x-python",
   "name": "python",
   "nbconvert_exporter": "python",
   "pygments_lexer": "ipython3",
   "version": "3.7.9"
  },
  "orig_nbformat": 4
 },
 "nbformat": 4,
 "nbformat_minor": 2
}
