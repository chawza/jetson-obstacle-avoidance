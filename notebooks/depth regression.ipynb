{
 "cells": [
  {
   "cell_type": "code",
   "execution_count": 31,
   "metadata": {},
   "outputs": [],
   "source": [
    "import os\n",
    "import sys\n",
    "sys.path.append(os.path.dirname(os.getcwd()))\n",
    "\n",
    "import numpy as np\n",
    "import pandas as pd\n",
    "from depthestimation import DepthEstimator\n",
    "import matplotlib.pyplot as plt"
   ]
  },
  {
   "cell_type": "code",
   "execution_count": 22,
   "metadata": {},
   "outputs": [],
   "source": [
    "estimator = DepthEstimator()\n",
    "# estimator.load_preset('./data/stereo_preset.json')\n",
    "# estimator.train_depth_mapping('./data/depth_map_notebook.npy')\n",
    "estimator.load_depth_model('C:/Users/Nabeel/projects/stereo-calibration/preset/depth_estimation_model.pickle')\n"
   ]
  },
  {
   "cell_type": "code",
   "execution_count": 23,
   "metadata": {},
   "outputs": [
    {
     "data": {
      "text/plain": [
       "<matplotlib.collections.PathCollection at 0x25362dd1448>"
      ]
     },
     "execution_count": 23,
     "metadata": {},
     "output_type": "execute_result"
    },
    {
     "data": {
      "image/png": "iVBORw0KGgoAAAANSUhEUgAAAtoAAAE9CAYAAAA1R8WUAAAAOXRFWHRTb2Z0d2FyZQBNYXRwbG90bGliIHZlcnNpb24zLjUuMSwgaHR0cHM6Ly9tYXRwbG90bGliLm9yZy/YYfK9AAAACXBIWXMAAAsTAAALEwEAmpwYAAAhG0lEQVR4nO3de7BlZXnn8e+Pi9IqsUFaAg2mEVELRWlygiQkKaIR0DjSGuOQmEgYMpgarVHHOANaEzSmyk68JSZKBoWAiSMhXtoebwSBjDEJwmkauYbQIxI4It2KjRqQCD7zx14nbA7ndO/T7LWv30/Vrr32u9be++nFqsNz3vOu50lVIUmSJKm/dht2AJIkSdIkMtGWJEmSWmCiLUmSJLXARFuSJElqgYm2JEmS1AITbUmSJKkFeww7gDbst99+tWbNmmGHIUmSpAm3adOmb1XVqsX2TWSivWbNGmZnZ4cdhiRJkiZcktuW2ufSEUmSJKkFJtqSJElSC0y0JUmSpBaYaEuSJEktMNGWJEmSWmCiLUmSJLXARFuSJElqQWuJdpK9klyZ5KtJbkjy9mb8kCRfSbIlyV8leUwz/tjm9ZZm/5quzzqzGb85yQltxdwPGzbPcez6yzjkjM9y7PrL2LB5btghSZIkaQjanNG+H3h+VT0XOBI4MckxwB8A76uqpwHfAU5rjj8N+E4z/r7mOJIcDpwMPAs4Efhgkt1bjHuXbdg8x5mfvI657fdRwNz2+zjzk9eZbEuSJE2h1hLt6vh+83LP5lHA84GPN+MXAOua7ZOa1zT7X5AkzfiFVXV/Vd0KbAGObivuR+NdF9/MfT988GFj9/3wQd518c1DikiSJEnD0uoa7SS7J7kG2ApcAvw/YHtVPdAccgewutleDdwO0Oy/B3hS9/gi7+n+rtOTzCaZ3bZtWwv/mp37xvb7ljUuSZKkydVqol1VD1bVkcBBdGahn9nid51TVTNVNbNq1aq2vmaHDly5YlnjkiRJmlwDqTpSVduBy4GfBlYm2aPZdRAwv4B5DjgYoNn/RODb3eOLvGekvPmEZ7Biz4cvH1+x5+68+YRnDCkiSZIkDUubVUdWJVnZbK8AXgjcRCfhfkVz2CnAp5vtjc1rmv2XVVU14yc3VUkOAQ4Drmwr7kdj3drVvPPlR7B65QoCrF65gne+/AjWrX3EShdJkiRNuD12fsguOwC4oKkQshtwUVV9JsmNwIVJfh/YDJzbHH8u8BdJtgB306k0QlXdkOQi4EbgAeC1VfUgI2rd2tUm1pIkSSKdSePJMjMzU7Ozs8MOQ5IkSRMuyaaqmllsX5sz2lNlw+Y53nXxzXxj+30cuHIFbz7hGc5sS5IkTTET7T6Yb1QzX0N7vlENYLItSZI0pQZSdWTS2ahGkiRJC5lo94GNaiRJkrSQiXYf2KhGkiRJC5lo94GNaiRJkrSQN0P2wfwNj1YdkSRJ0jwT7T6xUY0kSZK6uXREkiRJaoEz2n1iwxpJkiR1M9HuAxvWSJIkaSGXjvSBDWskSZK0kIl2H9iwRpIkSQuZaPeBDWskSZK0kIl2H9iwRpIkSQt5M2Qf2LBGkiRJC5lo94kNayRJktTNpSOSJElSC5zR7iOb1kiSJGmeiXaf2LRGkiRJ3Vw60ic2rZEkSVI3E+0+sWmNJEmSuplo94lNayRJktTNRLtPbFojSZKkbt4M2Sc2rZEkSVI3E+0+smmNJEmS5rl0RJIkSWqBM9p9YrMaSZIkdTPR7gOb1UiSJGkhl470gc1qJEmStJCJdh/YrEaSJEkLmWj3gc1qJEmStJCJdh/YrEaSJEkLeTNkH9isRpIkSQuZaPeJzWokSZLUrbWlI0kOTnJ5khuT3JDk9c3425LMJbmmeby46z1nJtmS5OYkJ3SNn9iMbUlyRlsxP1obNs9x7PrLOOSMz3Ls+svYsHlu2CFJkiRpSNqc0X4AeFNVXZ1kb2BTkkuafe+rqnd3H5zkcOBk4FnAgcAXkzy92f0B4IXAHcBVSTZW1Y0txr5s1tKWJElSt9ZmtKvqzqq6utn+HnATsKOM8yTgwqq6v6puBbYARzePLVX1tar6N+DC5tiRYi1tSZIkdRtI1ZEka4C1wFeaodcluTbJeUn2acZWA7d3ve2OZmyp8YXfcXqS2SSz27Zt6/c/YaespS1JkqRurSfaSZ4AfAJ4Q1V9FzgbOBQ4ErgTeE8/vqeqzqmqmaqaWbVqVT8+clmspS1JkqRurSbaSfakk2R/tKo+CVBVd1XVg1X1I+BDdJaGAMwBB3e9/aBmbKnxkWItbUmSJHVrs+pIgHOBm6rqvV3jB3Qd9jLg+mZ7I3BykscmOQQ4DLgSuAo4LMkhSR5D54bJjW3FvavWrV3NO19+BKtXriDA6pUreOfLj/BGSEmSpCnVZtWRY4HfAK5Lck0z9hbgV5McCRTwdeA1AFV1Q5KLgBvpVCx5bVU9CJDkdcDFwO7AeVV1Q4tx7zJraUuSJGleqmrYMfTdzMxMzc7ODjsMSZIkTbgkm6pqZrF9dobskw2b52zBLkmSpH9not0HNquRJEnSQgOpoz3pbFYjSZKkhUy0+8BmNZIkSVrIRLsPbFYjSZKkhUy0+8BmNZIkSVrImyH7YP6GR6uOSJIkaZ6Jdp/YrEaSJEndXDoiSZIktcAZ7RFj4xtJkqTJYKI9Qmx8I0mSNDlcOjJCbHwjSZI0OUy0R4iNbyRJkiaHifYIsfGNJEnS5DDRHiE2vpEkSZoc3gw5Qmx8I0mSNDlMtEeMjW8kSZImg0tHJEmSpBY4oz3ibGAjSZI0nky0R5gNbCRJksaXS0dGmA1sJEmSxpeJ9gizgY0kSdL4MtEeYTawkSRJGl8m2iPMBjaSJEnjy5shR5gNbCRJksaXifaIs4GNJEnSeHLpiCRJktQCZ7THkE1sJEmSRp+J9pixiY0kSdJ4cOnImLGJjSRJ0ngw0R4zNrGRJEkaDybaY8YmNpIkSePBRHvM2MRGkiRpPHgz5JixiY0kSdJ4MNEeQzaxkSRJGn2tLR1JcnCSy5PcmOSGJK9vxvdNckmSW5rnfZrxJHl/ki1Jrk1yVNdnndIcf0uSU9qKWZIkSeqXNme0HwDeVFVXJ9kb2JTkEuA3gUuran2SM4AzgP8BvAg4rHk8DzgbeF6SfYGzgBmgms/ZWFXfaTH2sWIDG0mSpNHT2ox2Vd1ZVVc3298DbgJWAycBFzSHXQCsa7ZPAj5SHVcAK5McAJwAXFJVdzfJ9SXAiW3FPW7mG9jMbb+P4qEGNhs2zw07NEmSpKk2kKojSdYAa4GvAPtX1Z3Nrm8C+zfbq4Hbu952RzO21LiwgY0kSdKoaj3RTvIE4BPAG6rqu937qqroLAfpx/ecnmQ2yey2bdv68ZFjwQY2kiRJo6nVRDvJnnSS7I9W1Seb4buaJSE0z1ub8Tng4K63H9SMLTX+MFV1TlXNVNXMqlWr+vsPGWE2sJEkSRpNbVYdCXAucFNVvbdr10ZgvnLIKcCnu8Zf3VQfOQa4p1licjFwfJJ9mgolxzdjwgY2kiRJo6rNqiPHAr8BXJfkmmbsLcB64KIkpwG3Aa9s9n0OeDGwBbgXOBWgqu5O8g7gqua436uqu1uMe6zYwEaSJGk0pbNMerLMzMzU7OzssMOQJEnShEuyqapmFttnZ8gJZF1tSZKk4TPRnjDzdbXnS/7N19UGTLYlSZIGaCB1tDU41tWWJEkaDSbaE8a62pIkSaNhp0tHkuwGPBc4ELgPuL6qtu74XRqWA1euYG6RpNq62pIkSYO15Ix2kkOTnEOn3N564FeB/wJ8MckVSU5tknCNEOtqS5IkjYYdzWj/PnA28JpaUAMwyZOBX6NTJ/uC9sLTcllXW5IkaTRYR1uSJEnaRY+qjnaS3YFfAtZ0H7+grbokSZKkLr3U0f4/wA+A64AftRuO2mITG0mSpMHqJdE+qKqe03okao1NbCRJkgavl6ohn09yfOuRqDU2sZEkSRq8Xma0rwA+1ZTy+yEQoKrqx1qNTH1jExtJkqTB62VG+73ATwOPq6ofq6q9TbLHy1LNamxiI0mS1J5eEu3b6XSDnLw6gFPCJjaSJEmD18vSka8Bf5vk88D984OW9xsfNrGRJEkavF4S7Vubx2Oah8bQurWrTawlSZIGaKeJdlW9fRCBSJIkSZOkl86QM8BbgZ/g4Z0hra09IWxmI0mS1H+9LB35KPBm7Aw5kWxmI0mS1I5eqo5sq6qNVXVrVd02/2g9Mg2EzWwkSZLa0cuM9llJPgxcysOrjnyytag0MDazkSRJakcvifapwDOBPXlo6UgBJtoT4MCVK5hbJKm2mY0kSdKj00ui/VNVZWeTCfXmE57xsDXaYDMbSZKkfuhljfY/JDm89Ug0FOvWruadLz+C1StXEGD1yhW88+VHeCOkJEnSo9TLjPYxwDVJbqWzRjtAWd5vctjMRpIkqf96SbRPbD0KSZIkacIsmWgneUJVfX9Hpfzmj2knNA2LDWwkSZIevR2t0f50kvck+fkkj58fTPLUJKcluRhnuyfOfAObue33UTzUwGbD5rlhhyZJkjRWlky0q+oFdGpnvwa4Ick9Sb4N/CXw48ApVfXxwYSpQbGBjSRJUn/scI12VX0O+NyAYtEIsIGNJElSf/RS3k9TZKlGNTawkSRJWh4TbT3Mm094Biv23P1hYzawkSRJWr5eyvtpisxXF7HqiCRJ0qOz00Q7yWlVde6CsfVVdUZ7YWmYbGAjSZL06PWydOSXk7xq/kWSDwCrdvamJOcl2Zrk+q6xtyWZS3JN83hx174zk2xJcnOSE7rGT2zGtiQxuZckSdJY6GXpyC8DG5P8iE7d7O1VdVoP7zsf+FPgIwvG31dV7+4eSHI4cDLwLOBA4ItJnt7s/gDwQuAO4KokG6vqxh6+Xy2wmY0kSVJvdtQZct+ul78FbAD+Hnh7kn2r6u4dfXBVfSnJmh7jOAm4sKruB25NsgU4utm3paq+1sR0YXOsifYQzDezma+zPd/MBjDZliRJWmBHS0c2AbPN8+XASuCXusZ31euSXNssLdmnGVsN3N51zB3N2FLjGgKb2UiSJPVuR50hD6mqpy54nn88dRe/72zgUOBI4E7gPbv4OY+Q5PQks0lmt23b1q+PVReb2UiSJPWup/J+SZ4NHA7sNT9WVQvXXu9UVd3V9ZkfAj7TvJwDDu469KBmjB2ML/zsc4BzAGZmZmq5sWnnDly5grlFkmqb2UiSJD3STquOJDkL+JPm8QvAHwIv3ZUvS3JA18uXAfMVSTYCJyd5bJJDgMOAK4GrgMOSHJLkMXRumNy4K9+tR89mNpIkSb3rZUb7FcBzgc1VdWqS/YG/3NmbknwMOA7YL8kdwFnAcUmOBAr4OvAagKq6IclFdG5yfAB4bVU92HzO64CLgd2B86rqhuX8A9U/NrORJEnqXap2vMoiyZVVdXSSTXRmtL8H3FRVzxxEgLtiZmamZmcfzf2akiRJ0s4l2VRVM4vt62VGezbJSuBDdCqOfB/4x/6FJ0mSJE2eHSbaSQK8s6q2A3+W5AvAj1XVtYMITuPJpjaSJEk7SbSrqpJ8Djiief31QQSl8WVTG0mSpI6dVh0Brk7yU61HoolgUxtJkqSOXtZoPw94VZLbgH8FQmey+zmtRqaxZFMbSZKkjl4S7RNaj0ITw6Y2kiRJHTtdOlJVt1XVbcB9dOpfzz+kR7CpjSRJUsdOZ7STvBR4D3AgsBX4CeAm4FnthqZxZFMbSZKkjl6WjrwDOAb4YlWtTfILwK+3G5bG2bq1q02sJUnS1Osl0f5hVX07yW5Jdquqy5P8UduBaXJZZ1uSJE2DXhLt7UmeAPwd8NEkW+lUH5GWzTrbkiRpWvRSR/ulwL3A64EvAFuAl7QZlCaXdbYlSdK0WHJGO8mXq+pngbt4qMpImuffT3I38K6q+mDLMWqCWGdbkiRNiyUT7SbJpqr2Xmx/kicB/wCYaKtn1tmWJEnTopelI4uqqm8Dx/UvFE0D62xLkqRp0cvNkEuqqjv7FYimg3W2JUnStHhUiba0K6yzLUmSpsEuLx2RJEmStDRntDU2bHQjSZLGiYm2xoKNbiRJ0rhx6YjGgo1uJEnSuDHR1liw0Y0kSRo3JtoaC0s1tLHRjSRJGlUm2hoLNrqRJEnjxpshNRZsdCNJksaNibbGho1uJEnSOHHpiCRJktQCZ7Q1NWx4I0mSBslEW1PBhjeSJGnQXDqiqWDDG0mSNGgm2poKNryRJEmDZqKtqWDDG0mSNGgm2poKNryRJEmD5s2Qmgo2vJEkSYNmoq2pYcMbSZI0SK0tHUlyXpKtSa7vGts3ySVJbmme92nGk+T9SbYkuTbJUV3vOaU5/pYkp7QVryRJktRPba7RPh84ccHYGcClVXUYcGnzGuBFwGHN43TgbOgk5sBZwPOAo4Gz5pNzadA2bJ7j2PWXccgZn+XY9ZexYfPcsEOSJEkjrLVEu6q+BNy9YPgk4IJm+wJgXdf4R6rjCmBlkgOAE4BLquruqvoOcAmPTN6l1s03vJnbfh/FQw1vTLYlSdJSBl11ZP+qurPZ/iawf7O9Gri967g7mrGlxqWBsuGNJElarqGV96uqAqpfn5fk9CSzSWa3bdvWr4+VABveSJKk5Rt0on1XsySE5nlrMz4HHNx13EHN2FLjj1BV51TVTFXNrFq1qu+Ba7rZ8EaSJC3XoBPtjcB85ZBTgE93jb+6qT5yDHBPs8TkYuD4JPs0N0Ee34xJA2XDG0mStFyt1dFO8jHgOGC/JHfQqR6yHrgoyWnAbcArm8M/B7wY2ALcC5wKUFV3J3kHcFVz3O9V1cIbLKXW2fBGkiQtVzpLpSfLzMxMzc7ODjsMSZIkTbgkm6pqZrF9Q7sZUpIkSZpktmCXWrRh85zLTSRJmlIm2lJL5pvczNffnm9yA5hsS5I0BVw6IrXEJjeSJE03E22pJTa5kSRpuploSy2xyY0kSdPNRFtqiU1uJEmabt4MKbXEJjeSJE03E22pRevWrjaxliRpSploS2PI+tySJI0+E21pzFifW5Kk8eDNkNKYsT63JEnjwURbGjPW55YkaTyYaEtjxvrckiSNBxNtacxYn1uSpPHgzZDSmLE+tyRJ48FEWxpD1ueWJGn0uXREkiRJaoEz2pKWxWY5kiT1xkRbUs9sliNJUu9cOiKpZzbLkSSpdybaknpmsxxJknpnoi2pZzbLkSSpdybaknpmsxxJknrnzZCSemazHEmSemeiLWlZbJYjSVJvXDoiSZIktcAZbUkTw2Y6kqRRYqItaSLYTEeSNGpcOiJpIthMR5I0aky0JU0Em+lIkkaNibakiWAzHUnSqDHRljQRbKYjSRo13gwpaSLYTEeSNGpMtCVNDJvpSJJGyVCWjiT5epLrklyTZLYZ2zfJJUluaZ73acaT5P1JtiS5NslRw4hZkiRJWo5hrtH+hao6sqpmmtdnAJdW1WHApc1rgBcBhzWP04GzBx6pJI2oDZvnOHb9ZRxyxmc5dv1lbNg8N+yQJEmNUboZ8iTggmb7AmBd1/hHquMKYGWSA4YQnySNlPkmPXPb76N4qEmPybYkjYZhJdoF/E2STUlOb8b2r6o7m+1vAvs326uB27vee0czJklTzSY9kjTahnUz5M9W1VySJwOXJPmn7p1VVUlqOR/YJOynAzzlKU/pX6SSNKJs0iNJo20oM9pVNdc8bwU+BRwN3DW/JKR53tocPgcc3PX2g5qxhZ95TlXNVNXMqlWr2gxfkkaCTXokabQNPNFO8vgke89vA8cD1wMbgVOaw04BPt1sbwRe3VQfOQa4p2uJiSRNLZv0SNJoG8bSkf2BTyWZ//7/XVVfSHIVcFGS04DbgFc2x38OeDGwBbgXOHXwIUvS6LFJjySNtlQtayn0WJiZmanZ2dlhhyFJkqQJl2RTV7nqhxml8n6SJEnSxLAFuyRpamzYPOdSG0kDY6ItSZoK8w1+5muPzzf4AUy2JbXCpSOSpKlggx9Jg2aiLUmaCjb4kTRoJtqSpKlggx9Jg2aiLUmaCjb4kTRo3gwpSZoKNviRNGgm2pKkqbFu7WoTa0kD49IRSZIkqQXOaEuSJC2DjY/UKxNtSZKkHtn4SMvh0hFJkqQe2fhIy2GiLUmS1CMbH2k5TLQlSZJ6ZOMjLYeJtiRJUo9sfKTl8GZISZKkHtn4SMthoi1JkrQMNj5Sr0y0JUmSNLZGua65ibYkSZLG0qjXNfdmSEmSJI2lUa9rbqItSZKksTTqdc1NtCVJkjSWRr2uuYm2JEmSxtKo1zX3ZkhJkiSNpVGva26iLUmSpLE1ynXNXToiSZIktcBEW5IkSWqBibYkSZLUAhNtSZIkqQUm2pIkSVILTLQlSZKkFphoS5IkSS0w0ZYkSZJakKoadgx9l2QbcNuw4xgT+wHfGnYQU8jzPnie8+HwvA+e53w4PO/DMQrn/SeqatViOyYy0VbvksxW1cyw45g2nvfB85wPh+d98Dznw+F5H45RP+8uHZEkSZJaYKItSZIktcBEW+cMO4Ap5XkfPM/5cHjeB89zPhye9+EY6fPuGm1JkiSpBc5oS5IkSS0w0Z4SSQ5OcnmSG5PckOT1zfi+SS5JckvzvM+wY51ESXZPsjnJZ5rXhyT5SpItSf4qyWOGHeOkSbIyyceT/FOSm5L8tNd7u5K8sfn5cn2SjyXZy2u9/5Kcl2Rrkuu7xha9ttPx/ub8X5vkqOFFPt6WOO/van7GXJvkU0lWdu07sznvNyc5YShBj7nFznnXvjclqST7Na9H8lo30Z4eDwBvqqrDgWOA1yY5HDgDuLSqDgMubV6r/14P3NT1+g+A91XV04DvAKcNJarJ9sfAF6rqmcBz6Zx/r/eWJFkN/FdgpqqeDewOnIzXehvOB05cMLbUtf0i4LDmcTpw9oBinETn88jzfgnw7Kp6DvDPwJkAzf9fTwae1bzng0l2H1yoE+N8HnnOSXIwcDzwL13DI3mtm2hPiaq6s6qubra/RyfpWA2cBFzQHHYBsG4oAU6wJAcBvwR8uHkd4PnAx5tDPO99luSJwM8D5wJU1b9V1Xa83tu2B7AiyR7A44A78Vrvu6r6EnD3guGlru2TgI9UxxXAyiQHDCTQCbPYea+qv6mqB5qXVwAHNdsnARdW1f1VdSuwBTh6YMFOiCWudYD3Af8d6L7RcCSvdRPtKZRkDbAW+Aqwf1Xd2ez6JrD/sOKaYH9E5wfCj5rXTwK2d/1wvoPOLz3qn0OAbcCfN0t2Ppzk8Xi9t6aq5oB305lhuhO4B9iE1/qgLHVtrwZu7zrO/wbt+U/A55ttz3tLkpwEzFXVVxfsGslzbqI9ZZI8AfgE8Iaq+m73vuqUoLEMTR8leQmwtao2DTuWKbMHcBRwdlWtBf6VBctEvN77q1kTfBKdX3IOBB7PIn/yVfu8tgcvyVvpLNH86LBjmWRJHge8BfjdYcfSKxPtKZJkTzpJ9ker6pPN8F3zf1ppnrcOK74JdSzw0iRfBy6k82f0P6bzJ609mmMOAuaGE97EugO4o6q+0rz+OJ3E2+u9Pb8I3FpV26rqh8An6Vz/XuuDsdS1PQcc3HWc/w36LMlvAi8BXlUP1Uz2vLfjUDq/zH+1+f/qQcDVSX6cET3nJtpTolkXfC5wU1W9t2vXRuCUZvsU4NODjm2SVdWZVXVQVa2hc2PMZVX1KuBy4BXNYZ73PquqbwK3J3lGM/QC4Ea83tv0L8AxSR7X/LyZP+de64Ox1LW9EXh1U5HhGOCeriUmepSSnEhnaeBLq+rerl0bgZOTPDbJIXRu0LtyGDFOkqq6rqqeXFVrmv+v3gEc1fzMH8lr3YY1UyLJzwJ/B1zHQ2uF30JnnfZFwFOA24BXVtViNx7oUUpyHPA7VfWSJE+lM8O9L7AZ+PWqun+I4U2cJEfSuQH1McDXgFPpTC54vbckyduB/0jnT+ibgd+is0bSa72PknwMOA7YD7gLOAvYwCLXdvNLz5/SWcZzL3BqVc0OIeyxt8R5PxN4LPDt5rArquq3m+PfSmfd9gN0lmt+fuFnascWO+dVdW7X/q/TqXT0rVG91k20JUmSpBa4dESSJElqgYm2JEmS1AITbUmSJKkFJtqSJElSC0y0JUmSpBaYaEvSECV5W5LfabZ/L8kvtvx9/9A8r0nya7vw/rVJzt3JMQcm+fguxtd9Pt6d5Pm78jmSNApMtCVpRFTV71bVF9v47PnujFX1M83QGmDZiTad+vvv39EBVfWNqnrFjo7p0Z8AZ/ThcyRpKEy0JWnAkrw1yT8n+TLwjK7x85O8otlen+TGJNcmeXfX/j9LMtu8/yXN+Jokf5fk6ubxM834cc34RjpdGkny/ebr1gM/l+SaJG9M8qWmyc98LF9O8twFce8NPKeqvtq8fluSv0jyj0luSfKfu+K5vtl+Y5Lzmu0jklzfdI88NMkXkmxqYnzmwvNUVbcBT2raK0vS2Nlj2AFI0jRJ8pPAycCRdH4GXw1sWnDMk4CXAc+sqkqysmv3GuBo4FDg8iRPA7YCL6yqHyQ5DPgYMNMcfxTw7Kq6dUEoZ9B0Km2+827gN4E3JHk6sNd8Qt1lBrh+wdhzgGOAxwObk3x2wf4/Bv42ycuAtwKvqap7k5wD/HZV3ZLkecAHgcWWiVwNHAt8YpF9kjTSnNGWpMH6OeBTVXVvVX0X2LjIMfcAPwDOTfJyOu2E511UVT+qqlvotJZ/JrAn8KEk1wF/DRzedfyViyTZi/lr4CVJ9qTTNvr8RY45ANi2YOzTVXVfVX0LuJzOLwH/rqp+RCeB/wvg/1bV3yd5AvAzwF8nuQb4X81nL2YrcGAP8UvSyHFGW5JGTFU9kORo4AXAK4DX8dBsby08HHgjcBfwXDoTKD/o2v+vPX7nvUkuAU4CXgn85CKH3Qfstcj37+g1wGHA93koYd4N2F5VR/YQ2l7N90rS2HFGW5IG60vAuiQrmjXP/2HhAc2M7xOr6nN0kujutdK/kmS3JIcCTwVuBp4I3NnMHv8GsHsPcXwP2HvB2Ifp3Oh4VVV9Z5H33AQ8bcHYSUn2apa7HAdcteDf8sTmM3+eznrrVzQz+bcm+ZXmmCxcD97l6TxyuYokjQUTbUkaoKq6Gvgr4KvA51mQmDb2Bj6T5Frgy8B/69r3L8CVzXt/u6p+QGd98ylJvkpnKUkvs9jXAg8m+WqSNzaxbQK+C/z5ErH/E/DE5heE7s+5HLgCeEdVfWPB294HfKCq/hk4DVif5MnAq4DTmphvoDOT/jDNMpanAbM9/HskaeSkarG/8kmSRk2S84HPVNUu1aju4fMPBP6Wzk2YP1rimDcC36uqDyd5G/D9qnp3S/G8DDiqqv5nG58vSW1zRluSRJJXA18B3rpUkt04G7h/MFGxB/CeAX2XJPWdM9qSJElSC5zRliRJklpgoi1JkiS1wERbkiRJaoGJtiRJktQCE21JkiSpBSbakiRJUgv+PzIdQh2OzD3uAAAAAElFTkSuQmCC",
      "text/plain": [
       "<Figure size 864x360 with 1 Axes>"
      ]
     },
     "metadata": {
      "needs_background": "light"
     },
     "output_type": "display_data"
    }
   ],
   "source": [
    "mapping = np.load('C:/Users/Nabeel/projects/stereo-calibration/preset/depth_map2.npy')\n",
    "disp = [np.float32(value[0]) for value in mapping]\n",
    "depth = [np.float32(value[1]) for value in mapping]\n",
    "\n",
    "plt.figure(figsize=(12,5))\n",
    "\n",
    "plt.ylabel('jarak (mm)')\n",
    "plt.xlabel('disparity (pixel)')\n",
    "plt.scatter(disp, depth)"
   ]
  },
  {
   "cell_type": "code",
   "execution_count": 34,
   "metadata": {},
   "outputs": [
    {
     "data": {
      "text/html": [
       "<div>\n",
       "<style scoped>\n",
       "    .dataframe tbody tr th:only-of-type {\n",
       "        vertical-align: middle;\n",
       "    }\n",
       "\n",
       "    .dataframe tbody tr th {\n",
       "        vertical-align: top;\n",
       "    }\n",
       "\n",
       "    .dataframe thead th {\n",
       "        text-align: right;\n",
       "    }\n",
       "</style>\n",
       "<table border=\"1\" class=\"dataframe\">\n",
       "  <thead>\n",
       "    <tr style=\"text-align: right;\">\n",
       "      <th></th>\n",
       "      <th>disparity</th>\n",
       "      <th>depth</th>\n",
       "    </tr>\n",
       "  </thead>\n",
       "  <tbody>\n",
       "    <tr>\n",
       "      <th>0</th>\n",
       "      <td>11.0000</td>\n",
       "      <td>3000.0</td>\n",
       "    </tr>\n",
       "    <tr>\n",
       "      <th>1</th>\n",
       "      <td>10.5625</td>\n",
       "      <td>2900.0</td>\n",
       "    </tr>\n",
       "    <tr>\n",
       "      <th>2</th>\n",
       "      <td>10.6875</td>\n",
       "      <td>2800.0</td>\n",
       "    </tr>\n",
       "    <tr>\n",
       "      <th>3</th>\n",
       "      <td>10.7500</td>\n",
       "      <td>2700.0</td>\n",
       "    </tr>\n",
       "    <tr>\n",
       "      <th>4</th>\n",
       "      <td>10.6875</td>\n",
       "      <td>2600.0</td>\n",
       "    </tr>\n",
       "    <tr>\n",
       "      <th>5</th>\n",
       "      <td>10.8750</td>\n",
       "      <td>2500.0</td>\n",
       "    </tr>\n",
       "    <tr>\n",
       "      <th>6</th>\n",
       "      <td>10.6875</td>\n",
       "      <td>2400.0</td>\n",
       "    </tr>\n",
       "    <tr>\n",
       "      <th>7</th>\n",
       "      <td>14.3750</td>\n",
       "      <td>2300.0</td>\n",
       "    </tr>\n",
       "    <tr>\n",
       "      <th>8</th>\n",
       "      <td>15.3750</td>\n",
       "      <td>2200.0</td>\n",
       "    </tr>\n",
       "    <tr>\n",
       "      <th>9</th>\n",
       "      <td>16.3125</td>\n",
       "      <td>2100.0</td>\n",
       "    </tr>\n",
       "    <tr>\n",
       "      <th>10</th>\n",
       "      <td>17.3125</td>\n",
       "      <td>2000.0</td>\n",
       "    </tr>\n",
       "    <tr>\n",
       "      <th>11</th>\n",
       "      <td>18.1250</td>\n",
       "      <td>1900.0</td>\n",
       "    </tr>\n",
       "    <tr>\n",
       "      <th>12</th>\n",
       "      <td>19.0625</td>\n",
       "      <td>1800.0</td>\n",
       "    </tr>\n",
       "    <tr>\n",
       "      <th>13</th>\n",
       "      <td>20.5625</td>\n",
       "      <td>1700.0</td>\n",
       "    </tr>\n",
       "    <tr>\n",
       "      <th>14</th>\n",
       "      <td>21.5625</td>\n",
       "      <td>1600.0</td>\n",
       "    </tr>\n",
       "    <tr>\n",
       "      <th>15</th>\n",
       "      <td>23.0000</td>\n",
       "      <td>1500.0</td>\n",
       "    </tr>\n",
       "    <tr>\n",
       "      <th>16</th>\n",
       "      <td>24.8125</td>\n",
       "      <td>1400.0</td>\n",
       "    </tr>\n",
       "    <tr>\n",
       "      <th>17</th>\n",
       "      <td>26.6875</td>\n",
       "      <td>1300.0</td>\n",
       "    </tr>\n",
       "    <tr>\n",
       "      <th>18</th>\n",
       "      <td>29.6875</td>\n",
       "      <td>1200.0</td>\n",
       "    </tr>\n",
       "    <tr>\n",
       "      <th>19</th>\n",
       "      <td>33.1250</td>\n",
       "      <td>1100.0</td>\n",
       "    </tr>\n",
       "    <tr>\n",
       "      <th>20</th>\n",
       "      <td>36.5000</td>\n",
       "      <td>1000.0</td>\n",
       "    </tr>\n",
       "    <tr>\n",
       "      <th>21</th>\n",
       "      <td>39.1250</td>\n",
       "      <td>900.0</td>\n",
       "    </tr>\n",
       "    <tr>\n",
       "      <th>22</th>\n",
       "      <td>43.9375</td>\n",
       "      <td>800.0</td>\n",
       "    </tr>\n",
       "    <tr>\n",
       "      <th>23</th>\n",
       "      <td>50.5000</td>\n",
       "      <td>700.0</td>\n",
       "    </tr>\n",
       "    <tr>\n",
       "      <th>24</th>\n",
       "      <td>58.8750</td>\n",
       "      <td>600.0</td>\n",
       "    </tr>\n",
       "    <tr>\n",
       "      <th>25</th>\n",
       "      <td>72.0000</td>\n",
       "      <td>500.0</td>\n",
       "    </tr>\n",
       "    <tr>\n",
       "      <th>26</th>\n",
       "      <td>88.0625</td>\n",
       "      <td>400.0</td>\n",
       "    </tr>\n",
       "    <tr>\n",
       "      <th>27</th>\n",
       "      <td>119.3125</td>\n",
       "      <td>300.0</td>\n",
       "    </tr>\n",
       "    <tr>\n",
       "      <th>28</th>\n",
       "      <td>140.6250</td>\n",
       "      <td>200.0</td>\n",
       "    </tr>\n",
       "  </tbody>\n",
       "</table>\n",
       "</div>"
      ],
      "text/plain": [
       "    disparity   depth\n",
       "0     11.0000  3000.0\n",
       "1     10.5625  2900.0\n",
       "2     10.6875  2800.0\n",
       "3     10.7500  2700.0\n",
       "4     10.6875  2600.0\n",
       "5     10.8750  2500.0\n",
       "6     10.6875  2400.0\n",
       "7     14.3750  2300.0\n",
       "8     15.3750  2200.0\n",
       "9     16.3125  2100.0\n",
       "10    17.3125  2000.0\n",
       "11    18.1250  1900.0\n",
       "12    19.0625  1800.0\n",
       "13    20.5625  1700.0\n",
       "14    21.5625  1600.0\n",
       "15    23.0000  1500.0\n",
       "16    24.8125  1400.0\n",
       "17    26.6875  1300.0\n",
       "18    29.6875  1200.0\n",
       "19    33.1250  1100.0\n",
       "20    36.5000  1000.0\n",
       "21    39.1250   900.0\n",
       "22    43.9375   800.0\n",
       "23    50.5000   700.0\n",
       "24    58.8750   600.0\n",
       "25    72.0000   500.0\n",
       "26    88.0625   400.0\n",
       "27   119.3125   300.0\n",
       "28   140.6250   200.0"
      ]
     },
     "execution_count": 34,
     "metadata": {},
     "output_type": "execute_result"
    }
   ],
   "source": [
    "depthmap_df = pd.DataFrame({'disparity': disp, 'depth': depth})\n",
    "depthmap_df"
   ]
  },
  {
   "cell_type": "code",
   "execution_count": 24,
   "metadata": {},
   "outputs": [
    {
     "data": {
      "image/png": "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",
      "text/plain": [
       "<Figure size 864x360 with 1 Axes>"
      ]
     },
     "metadata": {
      "needs_background": "light"
     },
     "output_type": "display_data"
    }
   ],
   "source": [
    "x = np.arange(10, 145, 1)\n",
    "y = [estimator.predict_depth(xi) for xi in x]\n",
    "x2 = x.copy()\n",
    "\n",
    "plt.figure(figsize=(12,5))\n",
    "plt.ylabel('distance (mm)')\n",
    "plt.xlabel('disparity (pixel)')\n",
    "plt.scatter(disp, depth, color='blue', label='depthmap dataset')\n",
    "plt.plot(x, y, color='red', label='model')\n",
    "plt.legend()\n",
    "plt.show()"
   ]
  },
  {
   "cell_type": "code",
   "execution_count": 25,
   "metadata": {},
   "outputs": [
    {
     "data": {
      "text/plain": [
       "[('poly', PolynomialFeatures(degree=3)), ('lienar', LinearRegression())]"
      ]
     },
     "execution_count": 25,
     "metadata": {},
     "output_type": "execute_result"
    }
   ],
   "source": [
    "model = estimator.depth_prediction_model.steps\n",
    "model"
   ]
  },
  {
   "cell_type": "code",
   "execution_count": 26,
   "metadata": {},
   "outputs": [
    {
     "name": "stdout",
     "output_type": "stream",
     "text": [
      "0.0\n",
      "-123.07149\n",
      "1.442919\n",
      "-0.0053634644\n"
     ]
    }
   ],
   "source": [
    "regresion_model = model[1][1]\n",
    "x = regresion_model.coef_\n",
    "x = x[0]\n",
    "for i in x:\n",
    "  print(i)"
   ]
  },
  {
   "cell_type": "code",
   "execution_count": 27,
   "metadata": {},
   "outputs": [
    {
     "data": {
      "text/plain": [
       "array([3779.5317], dtype=float32)"
      ]
     },
     "execution_count": 27,
     "metadata": {},
     "output_type": "execute_result"
    }
   ],
   "source": [
    "regresion_model.intercept_"
   ]
  },
  {
   "cell_type": "code",
<<<<<<< HEAD
   "execution_count": 28,
   "metadata": {},
   "outputs": [
    {
     "name": "stdout",
     "output_type": "stream",
     "text": [
      "R2\t 0.9708259367291043\n",
      "MSE\t 20421.84428962694\n",
      "RMSE\t 142.9050184200224\n",
      "MAE\t 114.75340333796139\n",
      "MAPE\t 0.1207658726892201\n"
     ]
    }
   ],
   "source": [
    "from sklearn.metrics import mean_absolute_error, mean_squared_error, r2_score, mean_absolute_percentage_error\n",
    "\n",
    "y_predict = [estimator.predict_depth(xi) for xi in disp]\n",
    "\n",
    "r2 = r2_score(depth, y_predict)\n",
    "mqe = mean_squared_error(depth, y_predict)\n",
    "rmse = np.sqrt(mqe)\n",
    "mae = mean_absolute_error(depth, y_predict)\n",
    "mape = mean_absolute_percentage_error(depth, y_predict)\n",
    "\n",
    "print('R2\\t', r2)\n",
    "print('MSE\\t', mqe)\n",
    "print('RMSE\\t', rmse)\n",
    "print('MAE\\t', mae)\n",
    "print('MAPE\\t', mape)"
   ]
  },
  {
   "cell_type": "code",
   "execution_count": 29,
   "metadata": {},
   "outputs": [
    {
     "data": {
      "image/png": "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",
      "text/plain": [
       "<Figure size 864x360 with 1 Axes>"
      ]
     },
     "metadata": {
      "needs_background": "light"
     },
     "output_type": "display_data"
    }
   ],
   "source": [
    "truth_distance = [200, 230, 260, 300, 350, 330, 400, 500, 440, 480, 500, 600, 700, 800, 900, 1000, 1200, 1500, 1900, 2200, 2500, 2800, 3000]\n",
    "exp_disparity = [5.0, 114.0, 135.0, 119.0, 102.0, 108.5, 89.0, 71.9, 81.9, 74.7, 71.9, 60.0, 51.4, 45.3, 40.1, 36.2, 30.5, 24.0, 19.4, 16.8, 14.9, 13.3, 12.5]\n",
    "predict_distance = [3249.2, 498.1, 344, 494, 458, 484, 394, 360.7, 365, 358, 360.9, 432, 575, 723.02, 886.67, 1038.72, 1311, 1645.5, 1985.84, 2182.65, 2332.12, 2362.5017, 2526.99]\n",
    "plt.figure(figsize=(12,5))\n",
    "plt.title('Distance prediction in Obstacle Detection')\n",
    "plt.ylabel('depth (mm)')\n",
    "plt.xlabel('disparity (pixel)')\n",
    "plt.scatter(exp_disparity, truth_distance, color='blue', label='Truth')\n",
    "plt.scatter(exp_disparity, predict_distance, color='red', label='Predicted')\n",
    "plt.legend()\n",
    "plt.show()\n"
   ]
  },
  {
   "cell_type": "code",
   "execution_count": 30,
   "metadata": {},
   "outputs": [
    {
     "name": "stdout",
     "output_type": "stream",
     "text": [
      "R2\t 0.4061789664706037\n",
      "MSE\t 436730.7866436039\n",
      "RMSE\t 660.8561013137459\n",
      "MAE\t 269.5134043478261\n",
      "MAPE\t 0.8863051875895829\n"
     ]
    }
   ],
   "source": [
    "r2 = r2_score(truth_distance, predict_distance)\n",
    "mqe = mean_squared_error(truth_distance, predict_distance)\n",
    "rmse = np.sqrt(mqe)\n",
    "mae = mean_absolute_error(truth_distance, predict_distance)\n",
    "mape = mean_absolute_percentage_error(truth_distance, predict_distance)\n",
    "\n",
    "print('R2\\t', r2)\n",
    "print('MSE\\t', mqe)\n",
    "print('RMSE\\t', rmse)\n",
    "print('MAE\\t', mae)\n",
    "print('MAPE\\t', mape)"
   ]
=======
   "execution_count": null,
   "metadata": {},
   "outputs": [],
   "source": [
    "t2_distance = [260, 300, 350, 330, 400, 500, 440, 480, 500, 600, 700, 800, 900, 1000, 1200, 1500, 1900, 2200, 2500, 2800, 3000, 230, 200]\n",
    "t2_predicted = [415, 495, 450, 470, 385, 363, 360, 358, 362, 433, 567, 720, 873, 1028, 1280, 1630, 1958, 2036, 2300, 2430, 2500, 166, 3249 ]\n",
    "plt.figure(figsize=(12,5))\n",
    "plt.title('Depth estimator performance')\n",
    "plt.ylabel('depth (mm)')\n",
    "plt.xlabel('disparity (pixel)')\n",
    "plt.scatter(disp, depth, color='blue', label='datset')\n",
    "plt.scatter(disp, t2_predicted, color='purple', label='experiment')\n",
    "plt.plot(x, y, color='red', label='model')\n",
    "plt.legend()\n",
    "plt.show()\n"
   ]
>>>>>>> 08d23011c8ce599137b7e3d7455477d644a471d1
  }
 ],
 "metadata": {
  "kernelspec": {
   "display_name": "Python 3.7.12 ('robot')",
   "language": "python",
   "name": "python3"
  },
  "language_info": {
   "codemirror_mode": {
    "name": "ipython",
    "version": 3
   },
   "file_extension": ".py",
   "mimetype": "text/x-python",
   "name": "python",
   "nbconvert_exporter": "python",
   "pygments_lexer": "ipython3",
   "version": "3.7.12"
  },
  "orig_nbformat": 4,
  "vscode": {
   "interpreter": {
    "hash": "63eeac817bd505db0448867408d0a2751489dbf5eb8fc24370df2fab7e942845"
   }
  }
 },
 "nbformat": 4,
 "nbformat_minor": 2
}
