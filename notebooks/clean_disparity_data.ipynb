{
 "cells": [
  {
   "cell_type": "code",
   "execution_count": 41,
   "metadata": {},
   "outputs": [],
   "source": [
    "import numpy as np\n",
    "file_path = '/home/nabeel/jetson-obstacle-avoidance/preset/disparity_list.npy'"
   ]
  },
  {
   "cell_type": "code",
   "execution_count": 42,
   "metadata": {},
   "outputs": [
    {
     "data": {
      "text/plain": [
       "array([ 11.    ,  10.5625,  10.6875,  10.75  ,  10.6875,  10.875 ,\n",
       "        10.6875,  14.375 ,  15.375 ,  16.3125,  17.3125,  18.125 ,\n",
       "        19.0625,  20.5625,  21.5625,  23.    ,  24.8125,  26.6875,\n",
       "        29.6875,  33.125 ,  36.5   ,  39.125 ,  43.9375,  50.5   ,\n",
       "        58.875 ,  72.    ,  88.0625, 119.3125, 140.625 ,  64.    ,\n",
       "        64.0625,  64.0625,  62.75  ,  62.8125,   5.    ], dtype=float32)"
      ]
     },
     "execution_count": 42,
     "metadata": {},
     "output_type": "execute_result"
    }
   ],
   "source": [
    "data = np.load(file_path)\n",
    "data"
   ]
  },
  {
   "cell_type": "code",
   "execution_count": 43,
   "metadata": {},
   "outputs": [
    {
     "data": {
      "text/plain": [
       "5.0"
      ]
     },
     "execution_count": 43,
     "metadata": {},
     "output_type": "execute_result"
    }
   ],
   "source": [
    "data[-1]"
   ]
  },
  {
   "cell_type": "code",
   "execution_count": 44,
   "metadata": {},
   "outputs": [],
   "source": [
    "disparity_list = np.array(data[0: 29])\n"
   ]
  },
  {
   "cell_type": "code",
   "execution_count": 45,
   "metadata": {},
   "outputs": [
    {
     "data": {
      "text/plain": [
       "[[11.0, 3000],\n",
       " [10.5625, 2900],\n",
       " [10.6875, 2800],\n",
       " [10.75, 2700],\n",
       " [10.6875, 2600],\n",
       " [10.875, 2500],\n",
       " [10.6875, 2400],\n",
       " [14.375, 2300],\n",
       " [15.375, 2200],\n",
       " [16.3125, 2100],\n",
       " [17.3125, 2000],\n",
       " [18.125, 1900],\n",
       " [19.0625, 1800],\n",
       " [20.5625, 1700],\n",
       " [21.5625, 1600],\n",
       " [23.0, 1500],\n",
       " [24.8125, 1400],\n",
       " [26.6875, 1300],\n",
       " [29.6875, 1200],\n",
       " [33.125, 1100],\n",
       " [36.5, 1000],\n",
       " [39.125, 900],\n",
       " [43.9375, 800],\n",
       " [50.5, 700],\n",
       " [58.875, 600],\n",
       " [72.0, 500],\n",
       " [88.0625, 400],\n",
       " [119.3125, 300],\n",
       " [140.625, 200]]"
      ]
     },
     "execution_count": 45,
     "metadata": {},
     "output_type": "execute_result"
    }
   ],
   "source": [
    "a = 3000\n",
    "depth_map = []\n",
    "for disp in disparity_list:\n",
    "  depth_map.append([\n",
    "    disp,\n",
    "    a\n",
    "  ])\n",
    "  a -= 100\n",
    "\n",
    "depth_map"
   ]
  },
  {
   "cell_type": "code",
   "execution_count": 46,
   "metadata": {},
   "outputs": [],
   "source": [
    "file_name = 'depth_map2.npy'\n",
    "np.save('/home/nabeel/jetson-obstacle-avoidance/preset/' + file_name, depth_map)"
   ]
  }
 ],
 "metadata": {
  "kernelspec": {
   "display_name": "Python 3.7.12 ('robot')",
   "language": "python",
   "name": "python3"
  },
  "language_info": {
   "codemirror_mode": {
    "name": "ipython",
    "version": 3
   },
   "file_extension": ".py",
   "mimetype": "text/x-python",
   "name": "python",
   "nbconvert_exporter": "python",
   "pygments_lexer": "ipython3",
   "version": "3.7.12"
  },
  "orig_nbformat": 4,
  "vscode": {
   "interpreter": {
    "hash": "63eeac817bd505db0448867408d0a2751489dbf5eb8fc24370df2fab7e942845"
   }
  }
 },
 "nbformat": 4,
 "nbformat_minor": 2
}
